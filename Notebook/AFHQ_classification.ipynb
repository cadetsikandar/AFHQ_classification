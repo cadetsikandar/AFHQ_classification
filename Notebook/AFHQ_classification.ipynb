{
 "cells": [
  {
   "cell_type": "code",
   "execution_count": 3,
   "id": "069ce413-d057-4a06-9e90-0c13510d2953",
   "metadata": {},
   "outputs": [
    {
     "name": "stdout",
     "output_type": "stream",
     "text": [
      "Resuming download from 423624704 bytes (306076051 bytes left)...\n",
      "Resuming download from https://www.kaggle.com/api/v1/datasets/download/andrewmvd/animal-faces?dataset_version_number=1 (423624704/729700755) bytes left.\n"
     ]
    },
    {
     "name": "stderr",
     "output_type": "stream",
     "text": [
      "100%|██████████| 696M/696M [09:49<00:00, 519kB/s]   "
     ]
    },
    {
     "name": "stdout",
     "output_type": "stream",
     "text": [
      "Extracting files...\n"
     ]
    },
    {
     "name": "stderr",
     "output_type": "stream",
     "text": [
      "\n"
     ]
    },
    {
     "name": "stdout",
     "output_type": "stream",
     "text": [
      "Path to dataset files: C:\\Users\\VICTUS\\.cache\\kagglehub\\datasets\\andrewmvd\\animal-faces\\versions\\1\n"
     ]
    }
   ],
   "source": [
    "import kagglehub\n",
    "\n",
    "# Download latest version\n",
    "path = kagglehub.dataset_download(\"andrewmvd/animal-faces\")\n",
    "\n",
    "print(\"Path to dataset files:\", path)"
   ]
  },
  {
   "cell_type": "code",
   "execution_count": 1,
   "id": "1df99fd9-27ba-40f4-8d91-08f1d7274610",
   "metadata": {},
   "outputs": [
    {
     "name": "stdout",
     "output_type": "stream",
     "text": [
      "Device available:  cuda\n"
     ]
    }
   ],
   "source": [
    "import torch\n",
    "from torch import nn\n",
    "from torch.optim import Adam\n",
    "from torchvision.transforms import transforms\n",
    "from torch.utils.data import Dataset, DataLoader\n",
    "from sklearn.preprocessing import LabelEncoder\n",
    "import matplotlib.pyplot as plt\n",
    "from PIL import Image \n",
    "import pandas as pd\n",
    "import numpy as np\n",
    "import os\n",
    "device = 'cuda' if torch.cuda.is_available() else 'cpu'\n",
    "print(\"Device available: \", device)"
   ]
  },
  {
   "cell_type": "code",
   "execution_count": 2,
   "id": "fa148833-07df-4042-bc69-bfcb8fddcaa6",
   "metadata": {},
   "outputs": [
    {
     "name": "stdout",
     "output_type": "stream",
     "text": [
      "['cat' 'dog' 'wild']\n"
     ]
    },
    {
     "data": {
      "text/html": [
       "<div>\n",
       "<style scoped>\n",
       "    .dataframe tbody tr th:only-of-type {\n",
       "        vertical-align: middle;\n",
       "    }\n",
       "\n",
       "    .dataframe tbody tr th {\n",
       "        vertical-align: top;\n",
       "    }\n",
       "\n",
       "    .dataframe thead th {\n",
       "        text-align: right;\n",
       "    }\n",
       "</style>\n",
       "<table border=\"1\" class=\"dataframe\">\n",
       "  <thead>\n",
       "    <tr style=\"text-align: right;\">\n",
       "      <th></th>\n",
       "      <th>image_path</th>\n",
       "      <th>labels</th>\n",
       "    </tr>\n",
       "  </thead>\n",
       "  <tbody>\n",
       "    <tr>\n",
       "      <th>0</th>\n",
       "      <td>C:/Users/VICTUS/.cache/kagglehub/datasets/andr...</td>\n",
       "      <td>cat</td>\n",
       "    </tr>\n",
       "    <tr>\n",
       "      <th>1</th>\n",
       "      <td>C:/Users/VICTUS/.cache/kagglehub/datasets/andr...</td>\n",
       "      <td>cat</td>\n",
       "    </tr>\n",
       "    <tr>\n",
       "      <th>2</th>\n",
       "      <td>C:/Users/VICTUS/.cache/kagglehub/datasets/andr...</td>\n",
       "      <td>cat</td>\n",
       "    </tr>\n",
       "    <tr>\n",
       "      <th>3</th>\n",
       "      <td>C:/Users/VICTUS/.cache/kagglehub/datasets/andr...</td>\n",
       "      <td>cat</td>\n",
       "    </tr>\n",
       "    <tr>\n",
       "      <th>4</th>\n",
       "      <td>C:/Users/VICTUS/.cache/kagglehub/datasets/andr...</td>\n",
       "      <td>cat</td>\n",
       "    </tr>\n",
       "  </tbody>\n",
       "</table>\n",
       "</div>"
      ],
      "text/plain": [
       "                                          image_path labels\n",
       "0  C:/Users/VICTUS/.cache/kagglehub/datasets/andr...    cat\n",
       "1  C:/Users/VICTUS/.cache/kagglehub/datasets/andr...    cat\n",
       "2  C:/Users/VICTUS/.cache/kagglehub/datasets/andr...    cat\n",
       "3  C:/Users/VICTUS/.cache/kagglehub/datasets/andr...    cat\n",
       "4  C:/Users/VICTUS/.cache/kagglehub/datasets/andr...    cat"
      ]
     },
     "execution_count": 2,
     "metadata": {},
     "output_type": "execute_result"
    }
   ],
   "source": [
    "image_path = []\n",
    "labels = []\n",
    "\n",
    "\n",
    "for i in os.listdir('C:/Users/VICTUS/.cache/kagglehub/datasets/andrewmvd/animal-faces/versions/1/afhq'):\n",
    "    for label in  os.listdir(f\"C:/Users/VICTUS/.cache/kagglehub/datasets/andrewmvd/animal-faces/versions/1/afhq/{i}\"):\n",
    "        for image in  os.listdir(f\"C:/Users/VICTUS/.cache/kagglehub/datasets/andrewmvd/animal-faces/versions/1/afhq/{i}/{label}\"):\n",
    "            image_path.append(f\"C:/Users/VICTUS/.cache/kagglehub/datasets/andrewmvd/animal-faces/versions/1/afhq/{i}/{label}/{image}\")\n",
    "            labels.append(label)\n",
    "\n",
    "data_df =pd.DataFrame(zip(image_path,labels),columns = [\"image_path\",\"labels\"])\n",
    "print(data_df[\"labels\"].unique())\n",
    "data_df.head()        \n",
    "        "
   ]
  },
  {
   "cell_type": "code",
   "execution_count": 3,
   "id": "6a8ce2bf-ddd7-4e80-a836-4425ea54da12",
   "metadata": {},
   "outputs": [
    {
     "name": "stdout",
     "output_type": "stream",
     "text": [
      "(11291, 2)\n",
      "(2419, 2)\n",
      "(2420, 2)\n"
     ]
    }
   ],
   "source": [
    "train = data_df.sample(frac = 0.7)\n",
    "test = data_df.drop(train.index)\n",
    "val = test.sample(frac = 0.5)\n",
    "test= test.drop(val.index)\n",
    "\n",
    "print(train.shape)\n",
    "print(test.shape)\n",
    "print(val.shape)"
   ]
  },
  {
   "cell_type": "code",
   "execution_count": 4,
   "id": "f9c1c8bc-f56e-432a-a0b7-119956f70156",
   "metadata": {},
   "outputs": [],
   "source": [
    "label_encoder = LabelEncoder()\n",
    "label_encoder.fit(data_df[\"labels\"])\n",
    "\n",
    "transform = transforms.Compose([\n",
    "    transforms.Resize((128,128)),\n",
    "    transforms.ToTensor(),\n",
    "    transforms.ConvertImageDtype(torch.float)\n",
    "])"
   ]
  },
  {
   "cell_type": "code",
   "execution_count": 5,
   "id": "cf9594c4-ace3-4ec9-a621-2181961be41f",
   "metadata": {},
   "outputs": [],
   "source": [
    "class CustomImageDataset(Dataset):\n",
    "    def __init__(self,dataframe,transform = None):\n",
    "        self.dataframe = dataframe\n",
    "        self.transform = transform\n",
    "        self.labels = torch.tensor(label_encoder.transform(dataframe[\"labels\"])).to(device)\n",
    "    def __len__(self):\n",
    "        return self.dataframe.shape[0]\n",
    "\n",
    "    def __getitem__(self,idx):\n",
    "        img_path = self.dataframe.iloc[idx,0]\n",
    "        label=self.labels[idx]\n",
    "\n",
    "        image = Image.open(img_path).convert(\"RGB\")\n",
    "        if self.transform:\n",
    "            image = self.transform(image).to(device)\n",
    "        return image,label"
   ]
  },
  {
   "cell_type": "code",
   "execution_count": 6,
   "id": "a2eb8111-a172-49b5-a81e-8820ca563ca4",
   "metadata": {},
   "outputs": [],
   "source": [
    "train_dataset = CustomImageDataset(dataframe = train, transform = transform)\n",
    "test_dataset = CustomImageDataset(dataframe = test, transform = transform)\n",
    "val_dataset = CustomImageDataset(dataframe = val, transform = transform)"
   ]
  },
  {
   "cell_type": "code",
   "execution_count": 7,
   "id": "721ced2e-ddf3-420a-a039-c7e3e3f618b9",
   "metadata": {},
   "outputs": [],
   "source": [
    "#hyperperameters \n",
    "LR =1e-4\n",
    "BATCH_SIZE = 16\n",
    "EPOCHS = 25"
   ]
  },
  {
   "cell_type": "code",
   "execution_count": 8,
   "id": "00224f0b-f7db-4edf-adab-1c3ba70f301d",
   "metadata": {},
   "outputs": [],
   "source": [
    "train_loader = DataLoader(train_dataset , batch_size = BATCH_SIZE,shuffle = True)\n",
    "test_loader = DataLoader(test_dataset , batch_size = BATCH_SIZE,shuffle = False )\n",
    "val_loader = DataLoader(val_dataset , batch_size = BATCH_SIZE,shuffle = False )"
   ]
  },
  {
   "cell_type": "code",
   "execution_count": 11,
   "id": "bb9d8762-6c8f-4efa-a906-caa91dd0a9a2",
   "metadata": {},
   "outputs": [],
   "source": [
    "import torch.nn as nn\n",
    "\n",
    "class Net(nn.Module):\n",
    "    def __init__(self):\n",
    "        super().__init__()\n",
    "\n",
    "        self.conv1 = nn.Sequential(\n",
    "            nn.Conv2d(3, 32, kernel_size=3, padding=1),\n",
    "            nn.BatchNorm2d(32),\n",
    "            nn.ReLU(),\n",
    "            nn.MaxPool2d(2, 2)\n",
    "        )\n",
    "\n",
    "        self.conv2 = nn.Sequential(\n",
    "            nn.Conv2d(32, 64, kernel_size=3, padding=1),\n",
    "            nn.BatchNorm2d(64),\n",
    "            nn.ReLU(),\n",
    "            nn.MaxPool2d(2, 2)\n",
    "        )\n",
    "\n",
    "        self.conv3 = nn.Sequential(\n",
    "            nn.Conv2d(64, 128, kernel_size=3, padding=1),\n",
    "            nn.BatchNorm2d(128),\n",
    "            nn.ReLU(),\n",
    "            nn.MaxPool2d(2, 2)\n",
    "        )\n",
    "\n",
    "        # ✅ Instead of Flatten → Global Average Pooling\n",
    "        self.gap = nn.AdaptiveAvgPool2d((1, 1))  # output size = (128, 1, 1)\n",
    "\n",
    "        self.fc = nn.Sequential(\n",
    "            nn.Flatten(),                   # (batch, 128)\n",
    "            nn.Dropout(0.5),                # regularization\n",
    "            nn.Linear(128, 128),\n",
    "            nn.ReLU(),\n",
    "            nn.Linear(128, len(data_df[\"labels\"].unique()))     # final output\n",
    "        )\n",
    "\n",
    "    def forward(self, x):\n",
    "        x = self.conv1(x)\n",
    "        x = self.conv2(x)\n",
    "        x = self.conv3(x)\n",
    "\n",
    "        x = self.gap(x)  # (batch, 128, 1, 1)\n",
    "        x = self.fc(x)\n",
    "        return x\n",
    "\n"
   ]
  },
  {
   "cell_type": "code",
   "execution_count": 13,
   "id": "45989887-0829-40ec-8bea-624bc0cd5c17",
   "metadata": {},
   "outputs": [],
   "source": [
    "model = Net().to(device)"
   ]
  },
  {
   "cell_type": "code",
   "execution_count": 14,
   "id": "38f57b5a-f3b6-4f24-b04e-f63fa8dc9521",
   "metadata": {},
   "outputs": [
    {
     "name": "stdout",
     "output_type": "stream",
     "text": [
      "----------------------------------------------------------------\n",
      "        Layer (type)               Output Shape         Param #\n",
      "================================================================\n",
      "            Conv2d-1         [-1, 32, 128, 128]             896\n",
      "       BatchNorm2d-2         [-1, 32, 128, 128]              64\n",
      "              ReLU-3         [-1, 32, 128, 128]               0\n",
      "         MaxPool2d-4           [-1, 32, 64, 64]               0\n",
      "            Conv2d-5           [-1, 64, 64, 64]          18,496\n",
      "       BatchNorm2d-6           [-1, 64, 64, 64]             128\n",
      "              ReLU-7           [-1, 64, 64, 64]               0\n",
      "         MaxPool2d-8           [-1, 64, 32, 32]               0\n",
      "            Conv2d-9          [-1, 128, 32, 32]          73,856\n",
      "      BatchNorm2d-10          [-1, 128, 32, 32]             256\n",
      "             ReLU-11          [-1, 128, 32, 32]               0\n",
      "        MaxPool2d-12          [-1, 128, 16, 16]               0\n",
      "AdaptiveAvgPool2d-13            [-1, 128, 1, 1]               0\n",
      "          Flatten-14                  [-1, 128]               0\n",
      "          Dropout-15                  [-1, 128]               0\n",
      "           Linear-16                  [-1, 128]          16,512\n",
      "             ReLU-17                  [-1, 128]               0\n",
      "           Linear-18                    [-1, 3]             387\n",
      "================================================================\n",
      "Total params: 110,595\n",
      "Trainable params: 110,595\n",
      "Non-trainable params: 0\n",
      "----------------------------------------------------------------\n",
      "Input size (MB): 0.19\n",
      "Forward/backward pass size (MB): 22.75\n",
      "Params size (MB): 0.42\n",
      "Estimated Total Size (MB): 23.36\n",
      "----------------------------------------------------------------\n"
     ]
    }
   ],
   "source": [
    "from torchsummary import summary\n",
    "summary(model,input_size=(3,128,128))"
   ]
  },
  {
   "cell_type": "code",
   "execution_count": 15,
   "id": "b299aa65-1bfd-4d2a-a216-6a8a59c8d42f",
   "metadata": {},
   "outputs": [],
   "source": [
    "criterion = nn.CrossEntropyLoss()\n",
    "optimizer = Adam(model.parameters(),lr=LR)"
   ]
  },
  {
   "cell_type": "code",
   "execution_count": null,
   "id": "d0ff3089-7a07-46a6-aa99-d10ee4ac5da8",
   "metadata": {},
   "outputs": [],
   "source": []
  },
  {
   "cell_type": "code",
   "execution_count": 16,
   "id": "0ac68727-041e-4a14-8a94-4f65f1fdceb1",
   "metadata": {},
   "outputs": [
    {
     "name": "stdout",
     "output_type": "stream",
     "text": [
      "Epoch 1/25 Train Loss : 0.6468  train Accuracy: 54.6807\n",
      "              Validation Loss : 0.1294  Validation Accuracy: 59.0909\n",
      "    \n",
      "Epoch 2/25 Train Loss : 0.5508  train Accuracy: 63.9979\n",
      "              Validation Loss : 0.1147  Validation Accuracy: 66.6116\n",
      "    \n",
      "Epoch 3/25 Train Loss : 0.4994  train Accuracy: 69.2853\n",
      "              Validation Loss : 0.1047  Validation Accuracy: 69.9587\n",
      "    \n",
      "Epoch 4/25 Train Loss : 0.4677  train Accuracy: 71.9334\n",
      "              Validation Loss : 0.099  Validation Accuracy: 72.6033\n",
      "    \n",
      "Epoch 5/25 Train Loss : 0.4484  train Accuracy: 73.4567\n",
      "              Validation Loss : 0.0964  Validation Accuracy: 74.2149\n",
      "    \n",
      "Epoch 6/25 Train Loss : 0.43  train Accuracy: 74.5461\n",
      "              Validation Loss : 0.0922  Validation Accuracy: 75.6612\n",
      "    \n",
      "Epoch 7/25 Train Loss : 0.4146  train Accuracy: 75.5735\n",
      "              Validation Loss : 0.0912  Validation Accuracy: 75.5785\n",
      "    \n",
      "Epoch 8/25 Train Loss : 0.4055  train Accuracy: 76.034\n",
      "              Validation Loss : 0.0915  Validation Accuracy: 75.4959\n",
      "    \n",
      "Epoch 9/25 Train Loss : 0.3915  train Accuracy: 77.6813\n",
      "              Validation Loss : 0.0832  Validation Accuracy: 77.6446\n",
      "    \n",
      "Epoch 10/25 Train Loss : 0.3765  train Accuracy: 77.947\n",
      "              Validation Loss : 0.0838  Validation Accuracy: 77.7686\n",
      "    \n",
      "Epoch 11/25 Train Loss : 0.3689  train Accuracy: 78.815\n",
      "              Validation Loss : 0.0787  Validation Accuracy: 79.0083\n",
      "    \n",
      "Epoch 12/25 Train Loss : 0.3628  train Accuracy: 79.6741\n",
      "              Validation Loss : 0.0814  Validation Accuracy: 79.3802\n",
      "    \n",
      "Epoch 13/25 Train Loss : 0.3471  train Accuracy: 80.7634\n",
      "              Validation Loss : 0.0746  Validation Accuracy: 80.4132\n",
      "    \n",
      "Epoch 14/25 Train Loss : 0.3417  train Accuracy: 80.8963\n",
      "              Validation Loss : 0.0769  Validation Accuracy: 79.8347\n",
      "    \n",
      "Epoch 15/25 Train Loss : 0.3338  train Accuracy: 81.224\n",
      "              Validation Loss : 0.0759  Validation Accuracy: 79.6694\n",
      "    \n",
      "Epoch 16/25 Train Loss : 0.3401  train Accuracy: 81.0823\n",
      "              Validation Loss : 0.0785  Validation Accuracy: 79.1736\n",
      "    \n",
      "Epoch 17/25 Train Loss : 0.3234  train Accuracy: 81.9325\n",
      "              Validation Loss : 0.0703  Validation Accuracy: 82.562\n",
      "    \n",
      "Epoch 18/25 Train Loss : 0.3215  train Accuracy: 81.9325\n",
      "              Validation Loss : 0.0773  Validation Accuracy: 80.4545\n",
      "    \n",
      "Epoch 19/25 Train Loss : 0.316  train Accuracy: 82.6853\n",
      "              Validation Loss : 0.0717  Validation Accuracy: 81.6116\n",
      "    \n",
      "Epoch 20/25 Train Loss : 0.3116  train Accuracy: 82.703\n",
      "              Validation Loss : 0.0704  Validation Accuracy: 82.0248\n",
      "    \n",
      "Epoch 21/25 Train Loss : 0.2992  train Accuracy: 83.5356\n",
      "              Validation Loss : 0.0752  Validation Accuracy: 80.8264\n",
      "    \n",
      "Epoch 22/25 Train Loss : 0.2968  train Accuracy: 83.7924\n",
      "              Validation Loss : 0.0689  Validation Accuracy: 82.0661\n",
      "    \n",
      "Epoch 23/25 Train Loss : 0.2958  train Accuracy: 84.1555\n",
      "              Validation Loss : 0.0659  Validation Accuracy: 82.7273\n",
      "    \n",
      "Epoch 24/25 Train Loss : 0.2856  train Accuracy: 84.8286\n",
      "              Validation Loss : 0.0659  Validation Accuracy: 82.5207\n",
      "    \n",
      "Epoch 25/25 Train Loss : 0.2813  train Accuracy: 84.7578\n",
      "              Validation Loss : 0.0677  Validation Accuracy: 82.7273\n",
      "    \n"
     ]
    }
   ],
   "source": [
    "total_loss_train_plot =[]\n",
    "total_loss_validation_plot =[]\n",
    "total_acc_train_plot =[]\n",
    "total_acc_validation_plot =[]\n",
    "\n",
    "for epoch in range(EPOCHS):\n",
    "    total_acc_train =0\n",
    "    total_loss_train =0\n",
    "    total_acc_val =0\n",
    "    total_loss_val =0\n",
    "    for inputs , labels in train_loader:\n",
    "        optimizer.zero_grad()\n",
    "\n",
    "        outputs = model(inputs)\n",
    "        train_loss = criterion(outputs,labels)\n",
    "        total_loss_train += train_loss.item()\n",
    "\n",
    "        train_loss.backward()\n",
    "        train_acc =(torch.argmax(outputs, axis = 1)== labels).sum().item()\n",
    "\n",
    "        total_acc_train+= train_acc\n",
    "        optimizer.step()\n",
    "    with torch.no_grad():\n",
    "        for inputs,labels in val_loader:\n",
    "            outputs = model(inputs)\n",
    "            val_loss = criterion(outputs,labels)\n",
    "            total_loss_val += val_loss.item()\n",
    "           \n",
    "            val_acc =(torch.argmax(outputs, axis = 1)== labels).sum().item()\n",
    "            total_acc_val+= val_acc\n",
    "    total_loss_train_plot.append(round(total_loss_train/1000,4))\n",
    "    total_loss_validation_plot.append(round(total_loss_val/1000,4))\n",
    "\n",
    "    total_acc_train_plot.append(round((total_acc_train/train_dataset.__len__())*100,4))\n",
    "    total_acc_validation_plot.append(round((total_acc_val/val_dataset.__len__())*100,4))\n",
    "\n",
    "    print(f'''Epoch {epoch+1}/{EPOCHS} Train Loss : {round(total_loss_train/1000,4)}  train Accuracy: {round((total_acc_train/train_dataset.__len__())*100,4)}\n",
    "              Validation Loss : {round(total_loss_val/1000,4)}  Validation Accuracy: {round((total_acc_val/val_dataset.__len__())*100,4)}\n",
    "    ''')"
   ]
  },
  {
   "cell_type": "code",
   "execution_count": 17,
   "id": "84066007-cc4b-4260-a68a-cd24fe930d44",
   "metadata": {},
   "outputs": [
    {
     "name": "stdout",
     "output_type": "stream",
     "text": [
      "Epoch 25/25 test Loss : 0.2744  test Accuracy: 37.2055\n"
     ]
    }
   ],
   "source": [
    "with torch.no_grad():\n",
    "    total_loss_test=0\n",
    "    total_acc_test=0\n",
    "    for inputs,labels in test_loader:\n",
    "        predictions = model(inputs)\n",
    "\n",
    "        test_acc =(torch.argmax(predictions, axis = 1)== labels).sum().item()\n",
    "        total_acc_test+= test_acc\n",
    "         \n",
    "        test_loss = criterion(predictions,labels)\n",
    "        total_loss_test += test_loss.item()\n",
    "           \n",
    "        \n",
    "print(f'Epoch {epoch+1}/{EPOCHS} test Loss : {round(total_loss_test/1000,4)}  test Accuracy: {round((total_acc_test/test_dataset.__len__())*100,4)}')\n",
    "    "
   ]
  },
  {
   "cell_type": "code",
   "execution_count": 18,
   "id": "d3f7f512-d38c-4c56-9c86-c78c46d9d263",
   "metadata": {},
   "outputs": [
    {
     "data": {
      "text/plain": [
       "<matplotlib.legend.Legend at 0x1f9fe300340>"
      ]
     },
     "execution_count": 18,
     "metadata": {},
     "output_type": "execute_result"
    },
    {
     "data": {
      "image/png": "[encoded data removed]",
      "text/plain": [
       "<Figure size 1500x500 with 2 Axes>"
      ]
     },
     "metadata": {},
     "output_type": "display_data"
    }
   ],
   "source": [
    "fig,axs =plt.subplots(nrows = 1 , ncols =2 , figsize = (15,5))\n",
    "\n",
    "axs[0].plot(total_loss_train_plot, label =\"Training Loss\")\n",
    "axs[0].plot(total_loss_validation_plot, label =\"validation Loss\")\n",
    "axs[0].set_title(\"traing and validation Loss\")\n",
    "axs[0].set_xlabel(\"epochs\")\n",
    "axs[0].set_ylabel(\"Loss\")\n",
    "axs[0].legend()\n",
    "\n",
    "\n",
    "axs[1].plot(total_acc_train_plot, label =\"Training Accuracy\")\n",
    "axs[1].plot(total_acc_validation_plot, label =\"validation Accuracy\")\n",
    "axs[1].set_title(\"traing and validation Accuracy\")\n",
    "axs[1].set_xlabel(\"epochs\")\n",
    "axs[1].set_ylabel(\"Accuracy\")\n",
    "axs[1].legend()"
   ]
  },
  {
   "cell_type": "code",
   "execution_count": 19,
   "id": "01fbeb32-ac3f-48de-a90e-88a13c17f414",
   "metadata": {},
   "outputs": [],
   "source": [
    "def predict_image(image_path):\n",
    "    image = Image.open(image_path).convert('RGB')\n",
    "    image = transform(image).to(device)\n",
    "    \n",
    "    output = model(image.unsqueeze(0))\n",
    "    output = torch.argmax(output , axis = 1).item()\n",
    "    return label_encoder.inverse_transform([output])"
   ]
  },
  {
   "cell_type": "code",
   "execution_count": 24,
   "id": "adbbc49d-1a25-4916-95e5-a97b2fd7878b",
   "metadata": {},
   "outputs": [
    {
     "data": {
      "text/plain": [
       "array(['cat'], dtype=object)"
      ]
     },
     "execution_count": 24,
     "metadata": {},
     "output_type": "execute_result"
    }
   ],
   "source": [
    "predict_image(\"C:/Users/VICTUS/Downloads/15.jpg\")"
   ]
  },
  {
   "cell_type": "code",
   "execution_count": 25,
   "id": "105aa56d-e92e-4051-b30b-191b83e94cec",
   "metadata": {},
   "outputs": [
    {
     "name": "stdout",
     "output_type": "stream",
     "text": [
      "Model weights saved ✅\n"
     ]
    }
   ],
   "source": [
    "# Save only the weights\n",
    "torch.save(model.state_dict(), \"best_model_weights.pth\")\n",
    "print(\"Model weights saved ✅\")\n"
   ]
  },
  {
   "cell_type": "code",
   "execution_count": null,
   "id": "074c1262-1af8-458a-a19b-abf3c450bff3",
   "metadata": {},
   "outputs": [],
   "source": []
  }
 ],
 "metadata": {
  "kernelspec": {
   "display_name": "Python [conda env:deeplearning]",
   "language": "python",
   "name": "conda-env-deeplearning-py"
  },
  "language_info": {
   "codemirror_mode": {
    "name": "ipython",
    "version": 3
   },
   "file_extension": ".py",
   "mimetype": "text/x-python",
   "name": "python",
   "nbconvert_exporter": "python",
   "pygments_lexer": "ipython3",
   "version": "3.10.18"
  }
 },
 "nbformat": 4,
 "nbformat_minor": 5
}
